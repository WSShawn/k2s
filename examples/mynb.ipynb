{
    "cells": [
        {
            "cell_type": "code",
            "execution_count": null,
            "id": "9a51471f-2a99-4c58-96c4-ac775259c3f8",
            "metadata": {},
            "outputs": [],
            "source": [
                "from k2s import bootstrap_env\n",
                "bootstrap_env(\"mynb.ipynb\")"
            ]
        },
        {
            "cell_type": "code",
            "execution_count": null,
            "id": "baba629f-e419-4cb6-ae1d-a99f5b821379",
            "metadata": {},
            "outputs": [],
            "source": [
                "import sklearn"
            ]
        },
        {
            "cell_type": "code",
            "execution_count": null,
            "id": "de29ffec-2964-45c0-8c5a-ce4cb4b5a29f",
            "metadata": {},
            "outputs": [],
            "source": [
                "import pymc"
            ]
        },
        {
            "cell_type": "code",
            "execution_count": null,
            "id": "4a8d82fc-2c94-4ce9-a0e4-c747a3b495bd",
            "metadata": {},
            "outputs": [],
            "source": [
                "import pandas"
            ]
        },
        {
            "cell_type": "code",
            "execution_count": null,
            "id": "af32a55d-b716-43c9-9751-269e56b31903",
            "metadata": {},
            "outputs": [],
            "source": []
        }
    ],
    "metadata": {
        "kernelspec": {
            "display_name": "Python 3 (mynb)",
            "language": "python",
            "name": "mynb"
        },
        "language_info": {
            "codemirror_mode": {
                "name": "ipython",
                "version": 3
            },
            "file_extension": ".py",
            "mimetype": "text/x-python",
            "name": "python",
            "nbconvert_exporter": "python",
            "pygments_lexer": "ipython3",
            "version": "3.9.13"
        }
    },
    "nbformat": 4,
    "nbformat_minor": 5
}
